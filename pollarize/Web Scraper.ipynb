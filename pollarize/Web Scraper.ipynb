{
 "cells": [
  {
   "cell_type": "code",
   "execution_count": 1,
   "metadata": {},
   "outputs": [],
   "source": [
    "import requests\n",
    "import random\n",
    "import pandas as pd \n",
    "import numpy as np\n",
    "from bs4 import BeautifulSoup\n",
    "import re\n",
    "import ast"
   ]
  },
  {
   "cell_type": "code",
   "execution_count": null,
   "metadata": {},
   "outputs": [],
   "source": [
    "questions = []\n",
    "choices = []\n",
    "def getWonderPolls():\n",
    "    for m in range(0,1000):\n",
    "        URL = 'http://www.wonderpolls.com/new_polls.php?page=' + str(m)\n",
    "        page = requests.get(URL)\n",
    "        soup = BeautifulSoup(page.content, 'html.parser')\n",
    "        if (soup.find_all(class_=\"poll_question\") == None):\n",
    "            continue\n",
    "        queries = soup.find_all(class_=\"poll_question\")\n",
    "        for q in queries:\n",
    "            title = q.find('font')\n",
    "            question = list(filter(lambda option: option != '' and option != '\\n', title.text.split(\"  \")))[0]\n",
    "            questions.append(question)\n",
    "            answers = q.find_all(class_=\"poll_option\")\n",
    "            ans = []\n",
    "            for answer in answers:\n",
    "                asdf = list(filter(lambda option: option != '' and option != '\\n', answer.text.split(\"\\n\")))\n",
    "                a = asdf[0][1:]\n",
    "                ans.append(a)\n",
    "            choices.append(ans)\n",
    "        \n",
    "getWonderPolls()\n",
    "wonderPollsdf = pd.DataFrame(list(zip(questions, choices)), \n",
    "               columns =['Question', 'Choices'])"
   ]
  },
  {
   "cell_type": "code",
   "execution_count": null,
   "metadata": {
    "scrolled": true
   },
   "outputs": [],
   "source": [
    "df_elements = wonderPollsdf.sample(n=10)\n",
    "df_elements"
   ]
  },
  {
   "cell_type": "code",
   "execution_count": null,
   "metadata": {},
   "outputs": [],
   "source": [
    "wonderPollsdf.to_csv('pollsData.csv', sep='\\t', encoding='utf-8')"
   ]
  },
  {
   "cell_type": "code",
   "execution_count": null,
   "metadata": {},
   "outputs": [],
   "source": [
    "rawPollsdf = pd.read_csv('rawPollsData.csv')\n",
    "\n",
    "# Creating pollData.csv\n",
    "\n",
    "df = rawPollsdf\n",
    "sLength = len(df['Question'])\n",
    "dateAdded = pd.Series(['2020-11-12']*sLength)\n",
    "creator = pd.Series([1]*sLength)\n",
    "df = df.assign(dateAdded=dateAdded.values)\n",
    "df = df.assign(creator=creator.values)\n",
    "df = df.drop('Choices', 1)\n",
    "df.to_csv('pollData.csv', encoding='utf-8')\n",
    "\n",
    "\n",
    "# Creating choiceData.csv\n",
    "df = rawPollsdf\n",
    "choiceList = []\n",
    "pollIDList = []\n",
    "for i in range(0, len(df['Question'])):\n",
    "    l = ast.literal_eval(df['Choices'][i])\n",
    "    for j in range(0, len(l)):\n",
    "        pollIDList.append(i)\n",
    "        choiceList.append(l[j])\n",
    "\n",
    "df = pd.DataFrame(list(zip(pollIDList, choiceList)), \n",
    "                             columns =['PollID', 'ChoiceTitle'])\n",
    "sLength = len(df['PollID'])\n",
    "dateAdded = pd.Series(['2020-11-12']*sLength)\n",
    "creator = pd.Series([1]*sLength)\n",
    "rating = pd.Series([0]*sLength)\n",
    "df = df.assign(dateAdded=dateAdded.values)\n",
    "df = df.assign(creator=creator.values)\n",
    "df = df.assign(rating=rating.values)\n",
    "df\n",
    "df.to_csv('choiceData.csv', encoding='utf-8', index=False)"
   ]
  },
  {
   "cell_type": "code",
   "execution_count": null,
   "metadata": {},
   "outputs": [],
   "source": []
  }
 ],
 "metadata": {
  "kernelspec": {
   "display_name": "Python 3",
   "language": "python",
   "name": "python3"
  },
  "language_info": {
   "codemirror_mode": {
    "name": "ipython",
    "version": 3
   },
   "file_extension": ".py",
   "mimetype": "text/x-python",
   "name": "python",
   "nbconvert_exporter": "python",
   "pygments_lexer": "ipython3",
   "version": "3.8.2"
  }
 },
 "nbformat": 4,
 "nbformat_minor": 4
}
